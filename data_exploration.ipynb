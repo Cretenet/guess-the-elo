{
 "cells": [
  {
   "cell_type": "code",
   "execution_count": 1,
   "metadata": {},
   "outputs": [],
   "source": [
    "import pandas as pd\n",
    "import numpy as np\n",
    "import re\n",
    "import matplotlib.pyplot as plt"
   ]
  },
  {
   "cell_type": "markdown",
   "metadata": {},
   "source": [
    "<hr/>\n",
    "\n",
    "## Exploration\n",
    "Let us take a first look at the data"
   ]
  },
  {
   "cell_type": "code",
   "execution_count": 2,
   "metadata": {},
   "outputs": [
    {
     "data": {
      "text/html": [
       "<div>\n",
       "<style scoped>\n",
       "    .dataframe tbody tr th:only-of-type {\n",
       "        vertical-align: middle;\n",
       "    }\n",
       "\n",
       "    .dataframe tbody tr th {\n",
       "        vertical-align: top;\n",
       "    }\n",
       "\n",
       "    .dataframe thead th {\n",
       "        text-align: right;\n",
       "    }\n",
       "</style>\n",
       "<table border=\"1\" class=\"dataframe\">\n",
       "  <thead>\n",
       "    <tr style=\"text-align: right;\">\n",
       "      <th></th>\n",
       "      <th>created_at</th>\n",
       "      <th>last_move_at</th>\n",
       "      <th>turns</th>\n",
       "      <th>white_rating</th>\n",
       "      <th>black_rating</th>\n",
       "      <th>opening_ply</th>\n",
       "    </tr>\n",
       "  </thead>\n",
       "  <tbody>\n",
       "    <tr>\n",
       "      <th>count</th>\n",
       "      <td>2.005800e+04</td>\n",
       "      <td>2.005800e+04</td>\n",
       "      <td>20058.000000</td>\n",
       "      <td>20058.000000</td>\n",
       "      <td>20058.000000</td>\n",
       "      <td>20058.000000</td>\n",
       "    </tr>\n",
       "    <tr>\n",
       "      <th>mean</th>\n",
       "      <td>1.483617e+12</td>\n",
       "      <td>1.483618e+12</td>\n",
       "      <td>60.465999</td>\n",
       "      <td>1596.631868</td>\n",
       "      <td>1588.831987</td>\n",
       "      <td>4.816981</td>\n",
       "    </tr>\n",
       "    <tr>\n",
       "      <th>std</th>\n",
       "      <td>2.850151e+10</td>\n",
       "      <td>2.850140e+10</td>\n",
       "      <td>33.570585</td>\n",
       "      <td>291.253376</td>\n",
       "      <td>291.036126</td>\n",
       "      <td>2.797152</td>\n",
       "    </tr>\n",
       "    <tr>\n",
       "      <th>min</th>\n",
       "      <td>1.376772e+12</td>\n",
       "      <td>1.376772e+12</td>\n",
       "      <td>1.000000</td>\n",
       "      <td>784.000000</td>\n",
       "      <td>789.000000</td>\n",
       "      <td>1.000000</td>\n",
       "    </tr>\n",
       "    <tr>\n",
       "      <th>25%</th>\n",
       "      <td>1.477548e+12</td>\n",
       "      <td>1.477548e+12</td>\n",
       "      <td>37.000000</td>\n",
       "      <td>1398.000000</td>\n",
       "      <td>1391.000000</td>\n",
       "      <td>3.000000</td>\n",
       "    </tr>\n",
       "    <tr>\n",
       "      <th>50%</th>\n",
       "      <td>1.496010e+12</td>\n",
       "      <td>1.496010e+12</td>\n",
       "      <td>55.000000</td>\n",
       "      <td>1567.000000</td>\n",
       "      <td>1562.000000</td>\n",
       "      <td>4.000000</td>\n",
       "    </tr>\n",
       "    <tr>\n",
       "      <th>75%</th>\n",
       "      <td>1.503170e+12</td>\n",
       "      <td>1.503170e+12</td>\n",
       "      <td>79.000000</td>\n",
       "      <td>1793.000000</td>\n",
       "      <td>1784.000000</td>\n",
       "      <td>6.000000</td>\n",
       "    </tr>\n",
       "    <tr>\n",
       "      <th>max</th>\n",
       "      <td>1.504493e+12</td>\n",
       "      <td>1.504494e+12</td>\n",
       "      <td>349.000000</td>\n",
       "      <td>2700.000000</td>\n",
       "      <td>2723.000000</td>\n",
       "      <td>28.000000</td>\n",
       "    </tr>\n",
       "  </tbody>\n",
       "</table>\n",
       "</div>"
      ],
      "text/plain": [
       "         created_at  last_move_at         turns  white_rating  black_rating  \\\n",
       "count  2.005800e+04  2.005800e+04  20058.000000  20058.000000  20058.000000   \n",
       "mean   1.483617e+12  1.483618e+12     60.465999   1596.631868   1588.831987   \n",
       "std    2.850151e+10  2.850140e+10     33.570585    291.253376    291.036126   \n",
       "min    1.376772e+12  1.376772e+12      1.000000    784.000000    789.000000   \n",
       "25%    1.477548e+12  1.477548e+12     37.000000   1398.000000   1391.000000   \n",
       "50%    1.496010e+12  1.496010e+12     55.000000   1567.000000   1562.000000   \n",
       "75%    1.503170e+12  1.503170e+12     79.000000   1793.000000   1784.000000   \n",
       "max    1.504493e+12  1.504494e+12    349.000000   2700.000000   2723.000000   \n",
       "\n",
       "        opening_ply  \n",
       "count  20058.000000  \n",
       "mean       4.816981  \n",
       "std        2.797152  \n",
       "min        1.000000  \n",
       "25%        3.000000  \n",
       "50%        4.000000  \n",
       "75%        6.000000  \n",
       "max       28.000000  "
      ]
     },
     "execution_count": 2,
     "metadata": {},
     "output_type": "execute_result"
    }
   ],
   "source": [
    "dataset = pd.read_csv(f'data/chess.csv')\n",
    "copy = dataset.copy() # Working on a copy keeps us from changing anything important\n",
    "dataset.describe()"
   ]
  },
  {
   "cell_type": "code",
   "execution_count": 3,
   "metadata": {},
   "outputs": [
    {
     "data": {
      "text/plain": [
       "id                19113\n",
       "rated                 2\n",
       "created_at        13151\n",
       "last_move_at      13186\n",
       "turns               211\n",
       "victory_status        4\n",
       "winner                3\n",
       "increment_code      400\n",
       "white_id           9438\n",
       "white_rating       1516\n",
       "black_id           9331\n",
       "black_rating       1521\n",
       "moves             18920\n",
       "opening_eco         365\n",
       "opening_name       1477\n",
       "opening_ply          23\n",
       "dtype: int64"
      ]
     },
     "execution_count": 3,
     "metadata": {},
     "output_type": "execute_result"
    }
   ],
   "source": [
    "dataset.nunique()"
   ]
  },
  {
   "cell_type": "markdown",
   "metadata": {},
   "source": [
    "There are no missing values. We do however need to take a look at some of the columns to see if we can turn them into good features"
   ]
  },
  {
   "cell_type": "markdown",
   "metadata": {},
   "source": [
    "<hr/>\n",
    "\n",
    "## Ratings\n",
    "Let us check the distribution of ratings and the distribution of the rating difference."
   ]
  },
  {
   "cell_type": "code",
   "execution_count": 4,
   "metadata": {},
   "outputs": [
    {
     "data": {
      "text/html": [
       "<div>\n",
       "<style scoped>\n",
       "    .dataframe tbody tr th:only-of-type {\n",
       "        vertical-align: middle;\n",
       "    }\n",
       "\n",
       "    .dataframe tbody tr th {\n",
       "        vertical-align: top;\n",
       "    }\n",
       "\n",
       "    .dataframe thead th {\n",
       "        text-align: right;\n",
       "    }\n",
       "</style>\n",
       "<table border=\"1\" class=\"dataframe\">\n",
       "  <thead>\n",
       "    <tr style=\"text-align: right;\">\n",
       "      <th></th>\n",
       "      <th>white</th>\n",
       "      <th>black</th>\n",
       "      <th>diff</th>\n",
       "    </tr>\n",
       "  </thead>\n",
       "  <tbody>\n",
       "    <tr>\n",
       "      <th>count</th>\n",
       "      <td>20058.000000</td>\n",
       "      <td>20058.000000</td>\n",
       "      <td>20058.000000</td>\n",
       "    </tr>\n",
       "    <tr>\n",
       "      <th>mean</th>\n",
       "      <td>1596.631868</td>\n",
       "      <td>1588.831987</td>\n",
       "      <td>7.799880</td>\n",
       "    </tr>\n",
       "    <tr>\n",
       "      <th>std</th>\n",
       "      <td>291.253376</td>\n",
       "      <td>291.036126</td>\n",
       "      <td>249.036667</td>\n",
       "    </tr>\n",
       "    <tr>\n",
       "      <th>min</th>\n",
       "      <td>784.000000</td>\n",
       "      <td>789.000000</td>\n",
       "      <td>-1605.000000</td>\n",
       "    </tr>\n",
       "    <tr>\n",
       "      <th>25%</th>\n",
       "      <td>1398.000000</td>\n",
       "      <td>1391.000000</td>\n",
       "      <td>-108.000000</td>\n",
       "    </tr>\n",
       "    <tr>\n",
       "      <th>50%</th>\n",
       "      <td>1567.000000</td>\n",
       "      <td>1562.000000</td>\n",
       "      <td>3.000000</td>\n",
       "    </tr>\n",
       "    <tr>\n",
       "      <th>75%</th>\n",
       "      <td>1793.000000</td>\n",
       "      <td>1784.000000</td>\n",
       "      <td>122.000000</td>\n",
       "    </tr>\n",
       "    <tr>\n",
       "      <th>max</th>\n",
       "      <td>2700.000000</td>\n",
       "      <td>2723.000000</td>\n",
       "      <td>1499.000000</td>\n",
       "    </tr>\n",
       "  </tbody>\n",
       "</table>\n",
       "</div>"
      ],
      "text/plain": [
       "              white         black          diff\n",
       "count  20058.000000  20058.000000  20058.000000\n",
       "mean    1596.631868   1588.831987      7.799880\n",
       "std      291.253376    291.036126    249.036667\n",
       "min      784.000000    789.000000  -1605.000000\n",
       "25%     1398.000000   1391.000000   -108.000000\n",
       "50%     1567.000000   1562.000000      3.000000\n",
       "75%     1793.000000   1784.000000    122.000000\n",
       "max     2700.000000   2723.000000   1499.000000"
      ]
     },
     "execution_count": 4,
     "metadata": {},
     "output_type": "execute_result"
    }
   ],
   "source": [
    "rating_data = np.concatenate((dataset['white_rating'].values.reshape(-1,1), \n",
    "    dataset['black_rating'].values.reshape(-1,1), \n",
    "    dataset['white_rating'].values.reshape(-1,1)-dataset['black_rating'].values.reshape(-1,1)), axis=1)\n",
    "rating = pd.DataFrame(data = rating_data, columns=['white', 'black', 'diff'])\n",
    "rating.describe()"
   ]
  },
  {
   "cell_type": "code",
   "execution_count": 5,
   "metadata": {},
   "outputs": [
    {
     "data": {
      "text/plain": [
       "Text(0.5, 1.0, 'Rating Difference in each game')"
      ]
     },
     "execution_count": 5,
     "metadata": {},
     "output_type": "execute_result"
    },
    {
     "data": {
      "image/png": "[encoded data removed]",
      "text/plain": [
       "<Figure size 2000x480 with 3 Axes>"
      ]
     },
     "metadata": {},
     "output_type": "display_data"
    }
   ],
   "source": [
    "fig, (ax1, ax2, ax3) = plt.subplots(1,3)\n",
    "fig.set_figwidth(20)\n",
    "ax1.hist(rating['white'])\n",
    "ax1.set_title('White Rating')\n",
    "ax2.hist(rating['black'])\n",
    "ax2.set_title('Black Rating')\n",
    "ax3.hist(rating['diff'], bins=20)\n",
    "ax3.set_title('Rating Difference in each game')"
   ]
  },
  {
   "cell_type": "markdown",
   "metadata": {},
   "source": [
    "From these data, we see that a large panel of ratings is represented and the difference also have a significant variance. It is therefore interesting to try to estimate one rating while knowing the other. If ratings were basically always the same, the prediction would be trivial."
   ]
  },
  {
   "cell_type": "markdown",
   "metadata": {},
   "source": [
    "<hr/>\n",
    "\n",
    "## Opening name\n",
    "There are too many different openings, but we try to see if it can be a good feature"
   ]
  },
  {
   "cell_type": "code",
   "execution_count": 6,
   "metadata": {},
   "outputs": [
    {
     "data": {
      "text/plain": [
       "Van't Kruijs Opening                                              368\n",
       "Sicilian Defense                                                  358\n",
       "Sicilian Defense: Bowdler Attack                                  296\n",
       "Scotch Game                                                       271\n",
       "French Defense: Knight Variation                                  271\n",
       "                                                                 ... \n",
       "Sicilian Defense: Kupreichik Variation                              1\n",
       "Modern Defense: Lizard Defense |  Mittenberger Gambit               1\n",
       "French Defense: Rubinstein Variation |  Kasparov Attack             1\n",
       "French Defense: Tarrasch Variation |  Open System |  Main Line      1\n",
       "Sicilian Defense: Najdorf Variation |  Polugaevsky Variation        1\n",
       "Name: opening_name, Length: 1477, dtype: int64"
      ]
     },
     "execution_count": 6,
     "metadata": {},
     "output_type": "execute_result"
    }
   ],
   "source": [
    "dataset['opening_name'].value_counts()"
   ]
  },
  {
   "cell_type": "code",
   "execution_count": 7,
   "metadata": {},
   "outputs": [],
   "source": [
    "# We try to simplify the opening names by getting rid of the variations (e.g. \"French defense #2 : Advanced variation\" -> \"French defense\")\n",
    "copy['opening_name'] = copy['opening_name'].str.extract(r'(^[^\\|\\:\\#]+)')\n",
    "# We count how many times each opening appears\n",
    "count_openings = copy['opening_name'].value_counts()\n",
    "# We keep only the opening that appear more than 100 times\n",
    "usual_openings = count_openings.index[count_openings.values >=100]"
   ]
  },
  {
   "cell_type": "code",
   "execution_count": 8,
   "metadata": {},
   "outputs": [],
   "source": [
    "# If we want to replace the unusual openings by \"Other\"\n",
    "copy['opening_name'] = np.where(copy['opening_name'].isin(usual_openings).values, copy['opening_name'].values, 'Other')"
   ]
  },
  {
   "cell_type": "code",
   "execution_count": 9,
   "metadata": {},
   "outputs": [
    {
     "data": {
      "text/plain": [
       "Other                      2598\n",
       "Sicilian Defense           2573\n",
       "French Defense             1306\n",
       "Queen's Pawn Game          1059\n",
       "Italian Game                981\n",
       "King's Pawn Game            917\n",
       "Ruy Lopez                   858\n",
       "English Opening             720\n",
       "Scandinavian Defense        716\n",
       "Caro-Kann Defense           593\n",
       "Scotch Game                 465\n",
       "Philidor Defense            419\n",
       "Queen's Gambit Declined     394\n",
       "Four Knights Game           370\n",
       "Van't Kruijs Opening        368\n",
       "Zukertort Opening           336\n",
       "Bishop's Opening            323\n",
       "Indian Game                 319\n",
       "Philidor Defense            272\n",
       "Queen's Gambit Accepted     253\n",
       "Russian Game                252\n",
       "Queen's Gambit Refused      251\n",
       "Modern Defense              225\n",
       "Horwitz Defense             209\n",
       "Nimzowitsch Defense         200\n",
       "King's Indian Defense       197\n",
       "Pirc Defense                193\n",
       "Alekhine Defense            188\n",
       "Slav Defense                187\n",
       "King's Knight Opening       183\n",
       "Hungarian Opening           179\n",
       "Queen's Pawn Game           174\n",
       "Owen Defense                171\n",
       "Nimzo-Larsen Attack         164\n",
       "Bird Opening                157\n",
       "Nimzo-Indian Defense        142\n",
       "Vienna Game                 134\n",
       "Queen's Pawn                129\n",
       "Dutch Defense               125\n",
       "King's Gambit Accepted      123\n",
       "Center Game                 110\n",
       "Giuoco Piano                108\n",
       "Semi-Slav Defense           108\n",
       "French Defense              106\n",
       "Mieses Opening              103\n",
       "Three Knights Opening       100\n",
       "Name: opening_name, dtype: int64"
      ]
     },
     "execution_count": 9,
     "metadata": {},
     "output_type": "execute_result"
    }
   ],
   "source": [
    "copy['opening_name'].value_counts()"
   ]
  },
  {
   "cell_type": "markdown",
   "metadata": {},
   "source": [
    "It is still unsure whether creating many categories for the opening_name is worth it for the model"
   ]
  },
  {
   "cell_type": "markdown",
   "metadata": {},
   "source": [
    "<hr/>\n",
    "\n",
    "## Increment Code\n",
    "This categorical variable is at the moment unusable, we have to simplify it. (atm 400 unique values).<br>\n",
    "We will extract the game formats 'bullet', 'blitz', 'rapid', and 'long'"
   ]
  },
  {
   "cell_type": "code",
   "execution_count": 10,
   "metadata": {},
   "outputs": [
    {
     "data": {
      "text/html": [
       "<div>\n",
       "<style scoped>\n",
       "    .dataframe tbody tr th:only-of-type {\n",
       "        vertical-align: middle;\n",
       "    }\n",
       "\n",
       "    .dataframe tbody tr th {\n",
       "        vertical-align: top;\n",
       "    }\n",
       "\n",
       "    .dataframe thead th {\n",
       "        text-align: right;\n",
       "    }\n",
       "</style>\n",
       "<table border=\"1\" class=\"dataframe\">\n",
       "  <thead>\n",
       "    <tr style=\"text-align: right;\">\n",
       "      <th></th>\n",
       "      <th>created_at</th>\n",
       "      <th>last_move_at</th>\n",
       "      <th>turns</th>\n",
       "      <th>increment_code</th>\n",
       "      <th>white_rating</th>\n",
       "      <th>black_rating</th>\n",
       "      <th>opening_ply</th>\n",
       "    </tr>\n",
       "  </thead>\n",
       "  <tbody>\n",
       "    <tr>\n",
       "      <th>count</th>\n",
       "      <td>2.005800e+04</td>\n",
       "      <td>2.005800e+04</td>\n",
       "      <td>20058.000000</td>\n",
       "      <td>20058.000000</td>\n",
       "      <td>20058.000000</td>\n",
       "      <td>20058.000000</td>\n",
       "      <td>20058.000000</td>\n",
       "    </tr>\n",
       "    <tr>\n",
       "      <th>mean</th>\n",
       "      <td>1.483617e+12</td>\n",
       "      <td>1.483618e+12</td>\n",
       "      <td>60.465999</td>\n",
       "      <td>13.824110</td>\n",
       "      <td>1596.631868</td>\n",
       "      <td>1588.831987</td>\n",
       "      <td>4.816981</td>\n",
       "    </tr>\n",
       "    <tr>\n",
       "      <th>std</th>\n",
       "      <td>2.850151e+10</td>\n",
       "      <td>2.850140e+10</td>\n",
       "      <td>33.570585</td>\n",
       "      <td>17.160179</td>\n",
       "      <td>291.253376</td>\n",
       "      <td>291.036126</td>\n",
       "      <td>2.797152</td>\n",
       "    </tr>\n",
       "    <tr>\n",
       "      <th>min</th>\n",
       "      <td>1.376772e+12</td>\n",
       "      <td>1.376772e+12</td>\n",
       "      <td>1.000000</td>\n",
       "      <td>0.000000</td>\n",
       "      <td>784.000000</td>\n",
       "      <td>789.000000</td>\n",
       "      <td>1.000000</td>\n",
       "    </tr>\n",
       "    <tr>\n",
       "      <th>25%</th>\n",
       "      <td>1.477548e+12</td>\n",
       "      <td>1.477548e+12</td>\n",
       "      <td>37.000000</td>\n",
       "      <td>10.000000</td>\n",
       "      <td>1398.000000</td>\n",
       "      <td>1391.000000</td>\n",
       "      <td>3.000000</td>\n",
       "    </tr>\n",
       "    <tr>\n",
       "      <th>50%</th>\n",
       "      <td>1.496010e+12</td>\n",
       "      <td>1.496010e+12</td>\n",
       "      <td>55.000000</td>\n",
       "      <td>10.000000</td>\n",
       "      <td>1567.000000</td>\n",
       "      <td>1562.000000</td>\n",
       "      <td>4.000000</td>\n",
       "    </tr>\n",
       "    <tr>\n",
       "      <th>75%</th>\n",
       "      <td>1.503170e+12</td>\n",
       "      <td>1.503170e+12</td>\n",
       "      <td>79.000000</td>\n",
       "      <td>15.000000</td>\n",
       "      <td>1793.000000</td>\n",
       "      <td>1784.000000</td>\n",
       "      <td>6.000000</td>\n",
       "    </tr>\n",
       "    <tr>\n",
       "      <th>max</th>\n",
       "      <td>1.504493e+12</td>\n",
       "      <td>1.504494e+12</td>\n",
       "      <td>349.000000</td>\n",
       "      <td>180.000000</td>\n",
       "      <td>2700.000000</td>\n",
       "      <td>2723.000000</td>\n",
       "      <td>28.000000</td>\n",
       "    </tr>\n",
       "  </tbody>\n",
       "</table>\n",
       "</div>"
      ],
      "text/plain": [
       "         created_at  last_move_at         turns  increment_code  white_rating  \\\n",
       "count  2.005800e+04  2.005800e+04  20058.000000    20058.000000  20058.000000   \n",
       "mean   1.483617e+12  1.483618e+12     60.465999       13.824110   1596.631868   \n",
       "std    2.850151e+10  2.850140e+10     33.570585       17.160179    291.253376   \n",
       "min    1.376772e+12  1.376772e+12      1.000000        0.000000    784.000000   \n",
       "25%    1.477548e+12  1.477548e+12     37.000000       10.000000   1398.000000   \n",
       "50%    1.496010e+12  1.496010e+12     55.000000       10.000000   1567.000000   \n",
       "75%    1.503170e+12  1.503170e+12     79.000000       15.000000   1793.000000   \n",
       "max    1.504493e+12  1.504494e+12    349.000000      180.000000   2700.000000   \n",
       "\n",
       "       black_rating   opening_ply  \n",
       "count  20058.000000  20058.000000  \n",
       "mean    1588.831987      4.816981  \n",
       "std      291.036126      2.797152  \n",
       "min      789.000000      1.000000  \n",
       "25%     1391.000000      3.000000  \n",
       "50%     1562.000000      4.000000  \n",
       "75%     1784.000000      6.000000  \n",
       "max     2723.000000     28.000000  "
      ]
     },
     "execution_count": 10,
     "metadata": {},
     "output_type": "execute_result"
    }
   ],
   "source": [
    "copy['increment_code'] = copy['increment_code'].str.extract(r'(^[^\\+\\s]+)')\n",
    "copy['increment_code'] = pd.to_numeric(copy['increment_code'])\n",
    "copy.describe()"
   ]
  },
  {
   "cell_type": "markdown",
   "metadata": {},
   "source": [
    "We now convert as follow :\n",
    "0-2 : bullet, 3-9 : blitz, 10-30 : rapid, >30 : long (based on chess.com notation)"
   ]
  },
  {
   "cell_type": "code",
   "execution_count": 11,
   "metadata": {},
   "outputs": [],
   "source": [
    "copy['increment_code'] = np.select([copy['increment_code']<=2, copy['increment_code']<=9, copy['increment_code']<=30],\n",
    "                                   ['bullet', 'blitz', 'rapid'],\n",
    "                                   default='long')"
   ]
  },
  {
   "cell_type": "markdown",
   "metadata": {},
   "source": [
    "<hr/>\n",
    "\n",
    "## Other columns\n",
    "* The start and end times both are weirdly rounded up which makes them unusable\n",
    "* The ids obviously are not useful to us\n",
    "* Opening_eco corresponds to a unique code for each opening, no need to have that and the opening_name\n",
    "* rated, turns, victory status, winner, and opening_ply are already useable\n",
    "* moves are useful if we want to determine how many bluders occured. This is, however, too complicated for now."
   ]
  },
  {
   "cell_type": "markdown",
   "metadata": {},
   "source": [
    "<hr/>\n",
    "\n",
    "## Export the modified data\n",
    "We drop the column that will never be useful and export."
   ]
  },
  {
   "cell_type": "code",
   "execution_count": 15,
   "metadata": {},
   "outputs": [],
   "source": [
    "copy = copy.drop(labels=['id', 'white_id', 'black_id', 'opening_eco', 'created_at', 'last_move_at'], axis=1)\n",
    "copy.to_csv('data/chess_simplified.csv', index=False)"
   ]
  }
 ],
 "metadata": {
  "kernelspec": {
   "display_name": "Python 3.8.10 ('venv': venv)",
   "language": "python",
   "name": "python3"
  },
  "language_info": {
   "codemirror_mode": {
    "name": "ipython",
    "version": 3
   },
   "file_extension": ".py",
   "mimetype": "text/x-python",
   "name": "python",
   "nbconvert_exporter": "python",
   "pygments_lexer": "ipython3",
   "version": "3.8.10"
  },
  "orig_nbformat": 4,
  "vscode": {
   "interpreter": {
    "hash": "6b2988099991d62bc311a8aeaab63a0bd9982e62a8f99dec3f2648e369d6f9ae"
   }
  }
 },
 "nbformat": 4,
 "nbformat_minor": 2
}
