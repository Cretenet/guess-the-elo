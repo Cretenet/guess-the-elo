{
 "cells": [
  {
   "cell_type": "markdown",
   "metadata": {},
   "source": [
    "# <ins>Guess the elo</ins>\n",
    "## Concept\n",
    "In this jupyter notebook, we try to implement a model that does the following :\n",
    "Based on the performance of white against black, and based on black's rating, try to guess the rating of white. Of course, this is highly random as one person can play a very good and a very bad game in the same day. However, we hope that on average, the prediction is as right as possible.\n",
    "The idea of this concept was inspired by a popular youtube show called \"Guess The Elo\" by Gotham Chess"
   ]
  },
  {
   "cell_type": "markdown",
   "metadata": {},
   "source": [
    "<hr/>\n",
    "\n",
    "## Import libraries and data"
   ]
  },
  {
   "cell_type": "code",
   "execution_count": 1,
   "metadata": {},
   "outputs": [],
   "source": [
    "import numpy as np\n",
    "import pandas as pd\n",
    "from sklearn.metrics import mean_absolute_error\n",
    "from sklearn.model_selection import train_test_split, GridSearchCV, StratifiedKFold\n",
    "from sklearn.feature_selection import RFECV\n",
    "from sklearn.preprocessing import OneHotEncoder, OrdinalEncoder, StandardScaler, Binarizer\n",
    "from sklearn.compose import ColumnTransformer\n",
    "from sklearn.pipeline import Pipeline\n",
    "from sklearn.linear_model import LinearRegression, Ridge, Lasso\n",
    "from sklearn.ensemble import RandomForestRegressor, VotingRegressor\n",
    "from sklearn.svm import SVR"
   ]
  },
  {
   "cell_type": "code",
   "execution_count": 2,
   "metadata": {},
   "outputs": [],
   "source": [
    "dataset = pd.read_csv('data/chess_simplified.csv')\n",
    "X = dataset.drop(labels=['white_rating', 'moves'], axis=1)\n",
    "y = dataset['white_rating']\n",
    "\n",
    "X_train, X_test, y_train, y_test = train_test_split(X, y, test_size=0.2, random_state=99)"
   ]
  },
  {
   "cell_type": "markdown",
   "metadata": {},
   "source": [
    "<hr/>\n",
    "\n",
    "## Preprocessing"
   ]
  },
  {
   "cell_type": "code",
   "execution_count": 3,
   "metadata": {},
   "outputs": [],
   "source": [
    "# The label has to be standardize outside of the pipeline\n",
    "ss_y = StandardScaler()\n",
    "y_train = ss_y.fit_transform(y_train.values.reshape(-1,1)).reshape(-1)\n",
    "#y_test = ss_y.transform(y_test.values.reshape(-1,1)).reshape(-1)\n",
    "\n",
    "# preprocessing step in the pipeline\n",
    "numerical_features = ['nb_turns', 'black_rating', 'nb_opening_moves', 'game_time', 'increment']\n",
    "boolean_features = ['is_rated', 'out_of_time', 'resign']\n",
    "categorical_features_ordinal = ['result']\n",
    "categorical_features_onehot = ['opening_name']\n",
    "\n",
    "preprocessor = ColumnTransformer([('scale', StandardScaler(), numerical_features),\n",
    "                                  ('ordinal', OrdinalEncoder(categories=[['lose', 'draw', 'win']]), categorical_features_ordinal),\n",
    "                                  ('onehot', OneHotEncoder(drop='first'), categorical_features_onehot),\n",
    "                                  ('binarize', Binarizer(), boolean_features)])"
   ]
  },
  {
   "cell_type": "markdown",
   "metadata": {},
   "source": [
    "<hr/>\n",
    "\n",
    "## Multilinear Regression"
   ]
  },
  {
   "cell_type": "code",
   "execution_count": 19,
   "metadata": {},
   "outputs": [
    {
     "name": "stdout",
     "output_type": "stream",
     "text": [
      "The best multilinear regression model has the following MAE : 158\n"
     ]
    }
   ],
   "source": [
    "model = LinearRegression()\n",
    "pipeline_lin = Pipeline([('preprocessor', preprocessor), ('model', model)])\n",
    "pipeline_lin.fit(X_train, y_train)\n",
    "\n",
    "score_lin = mean_absolute_error(y_test, ss_y.inverse_transform(pipeline_lin.predict(X_test).reshape(-1,1)))\n",
    "print(f'The best multilinear regression model has the following MAE : {round(score_lin)}')"
   ]
  },
  {
   "cell_type": "markdown",
   "metadata": {},
   "source": [
    "<hr/>\n",
    "\n",
    "## Ridge Regression"
   ]
  },
  {
   "cell_type": "code",
   "execution_count": 20,
   "metadata": {},
   "outputs": [
    {
     "name": "stdout",
     "output_type": "stream",
     "text": [
      "Here is the best choice of parameters : {'model__alpha': 32.0}\n",
      "The best Ridge regression model has the following MAE : 158\n"
     ]
    }
   ],
   "source": [
    "model = Ridge()\n",
    "pipeline = Pipeline([('preprocessor', preprocessor), ('model', model)])\n",
    "params={\n",
    "    'model__alpha': np.linspace(1.0, 100.0, 100)\n",
    "}\n",
    "grid_ridge = GridSearchCV(pipeline, param_grid=params, cv=5)\n",
    "grid_ridge.fit(X_train, y_train)\n",
    "\n",
    "score_ridge = mean_absolute_error(y_test, ss_y.inverse_transform(grid_ridge.predict(X_test).reshape(-1,1)))\n",
    "print(f'Here is the best choice of parameters : {grid_ridge.best_params_}')\n",
    "print(f'The best Ridge regression model has the following MAE : {round(score_ridge)}')"
   ]
  },
  {
   "cell_type": "markdown",
   "metadata": {},
   "source": [
    "<hr/>\n",
    "\n",
    "## Lasso Regression"
   ]
  },
  {
   "cell_type": "code",
   "execution_count": 21,
   "metadata": {},
   "outputs": [
    {
     "name": "stdout",
     "output_type": "stream",
     "text": [
      "Here is the best choice of parameters : {'model__alpha': 0.0001}\n",
      "The best Lasso regression model has the following MAE : 158\n"
     ]
    }
   ],
   "source": [
    "model = Lasso()\n",
    "pipeline = Pipeline([('preprocessor', preprocessor), ('model', model)])\n",
    "params={\n",
    "    'model__alpha': np.linspace(0.0001, 0.001, 10)\n",
    "}\n",
    "grid_lasso = GridSearchCV(pipeline, param_grid=params, cv=5)\n",
    "grid_lasso.fit(X_train, y_train)\n",
    "\n",
    "score_lasso = mean_absolute_error(y_test, ss_y.inverse_transform(grid_lasso.predict(X_test).reshape(-1,1)))\n",
    "print(f'Here is the best choice of parameters : {grid_lasso.best_params_}')\n",
    "print(f'The best Lasso regression model has the following MAE : {round(score_lasso)}')"
   ]
  },
  {
   "cell_type": "markdown",
   "metadata": {},
   "source": [
    "<hr/>\n",
    "\n",
    "## Random Forest Regression"
   ]
  },
  {
   "cell_type": "code",
   "execution_count": 22,
   "metadata": {},
   "outputs": [
    {
     "name": "stdout",
     "output_type": "stream",
     "text": [
      "Here is the best choice of parameters : {'model__max_depth': 30, 'model__max_features': 'sqrt'}\n",
      "The best Random Forest regression model has the following MAE : 144\n"
     ]
    }
   ],
   "source": [
    "model = RandomForestRegressor(n_estimators=500, random_state=99)\n",
    "pipeline = Pipeline([('preprocessor', preprocessor), ('model', model)])\n",
    "params={\n",
    "    'model__max_features': ['sqrt'],\n",
    "    #'model__min_samples_leaf': np.arange(2, 43, 10),\n",
    "    #'model__max_depth': np.arange(4, 13, 4)\n",
    "    'model__max_depth': [30], #30 gave 0.55\n",
    "    #'model__min_samples_leaf': [10]\n",
    "}\n",
    "grid_rf = GridSearchCV(pipeline, param_grid=params, cv=5)\n",
    "grid_rf.fit(X_train, y_train)\n",
    "\n",
    "score_rf = mean_absolute_error(y_test, ss_y.inverse_transform(grid_rf.predict(X_test).reshape(-1,1)))\n",
    "print(f'Here is the best choice of parameters : {grid_rf.best_params_}')\n",
    "print(f'The best Random Forest regression model has the following MAE : {round(score_rf)}')"
   ]
  },
  {
   "cell_type": "markdown",
   "metadata": {},
   "source": [
    "<hr/>\n",
    "\n",
    "## SVM"
   ]
  },
  {
   "cell_type": "code",
   "execution_count": 24,
   "metadata": {},
   "outputs": [
    {
     "name": "stdout",
     "output_type": "stream",
     "text": [
      "Here is the best choice of parameters : {'model__C': 1.0, 'model__kernel': 'rbf'}\n",
      "The SVM regression model has the following MAE : 149\n"
     ]
    }
   ],
   "source": [
    "model = SVR()\n",
    "pipeline = Pipeline([('preprocessor', preprocessor), ('model', model)])\n",
    "params={\n",
    "    'model__kernel': ['rbf', 'sigmoid', 'linear'],\n",
    "    #'model__degree': [2, 3, 4],\n",
    "    'model__C': [ 0.75, 1.0, 1.25]\n",
    "}\n",
    "grid_svr = GridSearchCV(pipeline, param_grid=params, cv=5)\n",
    "grid_svr.fit(X_train, y_train)\n",
    "\n",
    "score_svr = mean_absolute_error(y_test, ss_y.inverse_transform(grid_svr.predict(X_test).reshape(-1,1)))\n",
    "print(f'Here is the best choice of parameters : {grid_svr.best_params_}')\n",
    "print(f'The SVM regression model has the following MAE : {round(score_svr)}')"
   ]
  },
  {
   "cell_type": "markdown",
   "metadata": {},
   "source": [
    "<hr/>\n",
    "\n",
    "## Ensemble Learning"
   ]
  },
  {
   "cell_type": "code",
   "execution_count": 25,
   "metadata": {},
   "outputs": [
    {
     "name": "stdout",
     "output_type": "stream",
     "text": [
      "The voting regressor model has the following MAE : 147\n"
     ]
    }
   ],
   "source": [
    "lin = LinearRegression()\n",
    "pipeline_lin = Pipeline([('prep', preprocessor), ('lin', lin)])\n",
    "rf = RandomForestRegressor(n_estimators=500, max_features='sqrt', max_depth=40, random_state=99)\n",
    "pipeline_rf = Pipeline([('prep', preprocessor), ('rf', rf)])\n",
    "svr = SVR(kernel='rbf', C=1.0)\n",
    "pipeline_svr = Pipeline([('prep', preprocessor), ('svr', svr)])\n",
    "\n",
    "vote = VotingRegressor([('linear', pipeline_lin), ('random_forest', pipeline_rf), ('SVR', pipeline_svr)], )\n",
    "vote.fit(X_train, y_train)\n",
    "\n",
    "score_vote = mean_absolute_error(y_test, ss_y.inverse_transform(vote.predict(X_test).reshape(-1,1)))\n",
    "print(f'The voting regressor model has the following MAE : {round(score_vote)}')"
   ]
  },
  {
   "cell_type": "markdown",
   "metadata": {},
   "source": [
    "<hr/>\n",
    "\n",
    "## Feature Selection\n",
    "Now that we know that the Random Forest is the best estimator, we use it to check whether there are bad features. The number of estimators is however reduced to avoid the selection to take too long."
   ]
  },
  {
   "cell_type": "code",
   "execution_count": 29,
   "metadata": {},
   "outputs": [
    {
     "data": {
      "text/html": [
       "<style>#sk-container-id-1 {color: black;background-color: white;}#sk-container-id-1 pre{padding: 0;}#sk-container-id-1 div.sk-toggleable {background-color: white;}#sk-container-id-1 label.sk-toggleable__label {cursor: pointer;display: block;width: 100%;margin-bottom: 0;padding: 0.3em;box-sizing: border-box;text-align: center;}#sk-container-id-1 label.sk-toggleable__label-arrow:before {content: \"▸\";float: left;margin-right: 0.25em;color: #696969;}#sk-container-id-1 label.sk-toggleable__label-arrow:hover:before {color: black;}#sk-container-id-1 div.sk-estimator:hover label.sk-toggleable__label-arrow:before {color: black;}#sk-container-id-1 div.sk-toggleable__content {max-height: 0;max-width: 0;overflow: hidden;text-align: left;background-color: #f0f8ff;}#sk-container-id-1 div.sk-toggleable__content pre {margin: 0.2em;color: black;border-radius: 0.25em;background-color: #f0f8ff;}#sk-container-id-1 input.sk-toggleable__control:checked~div.sk-toggleable__content {max-height: 200px;max-width: 100%;overflow: auto;}#sk-container-id-1 input.sk-toggleable__control:checked~label.sk-toggleable__label-arrow:before {content: \"▾\";}#sk-container-id-1 div.sk-estimator input.sk-toggleable__control:checked~label.sk-toggleable__label {background-color: #d4ebff;}#sk-container-id-1 div.sk-label input.sk-toggleable__control:checked~label.sk-toggleable__label {background-color: #d4ebff;}#sk-container-id-1 input.sk-hidden--visually {border: 0;clip: rect(1px 1px 1px 1px);clip: rect(1px, 1px, 1px, 1px);height: 1px;margin: -1px;overflow: hidden;padding: 0;position: absolute;width: 1px;}#sk-container-id-1 div.sk-estimator {font-family: monospace;background-color: #f0f8ff;border: 1px dotted black;border-radius: 0.25em;box-sizing: border-box;margin-bottom: 0.5em;}#sk-container-id-1 div.sk-estimator:hover {background-color: #d4ebff;}#sk-container-id-1 div.sk-parallel-item::after {content: \"\";width: 100%;border-bottom: 1px solid gray;flex-grow: 1;}#sk-container-id-1 div.sk-label:hover label.sk-toggleable__label {background-color: #d4ebff;}#sk-container-id-1 div.sk-serial::before {content: \"\";position: absolute;border-left: 1px solid gray;box-sizing: border-box;top: 0;bottom: 0;left: 50%;z-index: 0;}#sk-container-id-1 div.sk-serial {display: flex;flex-direction: column;align-items: center;background-color: white;padding-right: 0.2em;padding-left: 0.2em;position: relative;}#sk-container-id-1 div.sk-item {position: relative;z-index: 1;}#sk-container-id-1 div.sk-parallel {display: flex;align-items: stretch;justify-content: center;background-color: white;position: relative;}#sk-container-id-1 div.sk-item::before, #sk-container-id-1 div.sk-parallel-item::before {content: \"\";position: absolute;border-left: 1px solid gray;box-sizing: border-box;top: 0;bottom: 0;left: 50%;z-index: -1;}#sk-container-id-1 div.sk-parallel-item {display: flex;flex-direction: column;z-index: 1;position: relative;background-color: white;}#sk-container-id-1 div.sk-parallel-item:first-child::after {align-self: flex-end;width: 50%;}#sk-container-id-1 div.sk-parallel-item:last-child::after {align-self: flex-start;width: 50%;}#sk-container-id-1 div.sk-parallel-item:only-child::after {width: 0;}#sk-container-id-1 div.sk-dashed-wrapped {border: 1px dashed gray;margin: 0 0.4em 0.5em 0.4em;box-sizing: border-box;padding-bottom: 0.4em;background-color: white;}#sk-container-id-1 div.sk-label label {font-family: monospace;font-weight: bold;display: inline-block;line-height: 1.2em;}#sk-container-id-1 div.sk-label-container {text-align: center;}#sk-container-id-1 div.sk-container {/* jupyter's `normalize.less` sets `[hidden] { display: none; }` but bootstrap.min.css set `[hidden] { display: none !important; }` so we also need the `!important` here to be able to override the default hidden behavior on the sphinx rendered scikit-learn.org. See: https://github.com/scikit-learn/scikit-learn/issues/21755 */display: inline-block !important;position: relative;}#sk-container-id-1 div.sk-text-repr-fallback {display: none;}</style><div id=\"sk-container-id-1\" class=\"sk-top-container\"><div class=\"sk-text-repr-fallback\"><pre>RFECV(cv=5,\n",
       "      estimator=RandomForestRegressor(max_depth=30, max_features=&#x27;sqrt&#x27;,\n",
       "                                      random_state=99),\n",
       "      scoring=&#x27;r2&#x27;)</pre><b>In a Jupyter environment, please rerun this cell to show the HTML representation or trust the notebook. <br />On GitHub, the HTML representation is unable to render, please try loading this page with nbviewer.org.</b></div><div class=\"sk-container\" hidden><div class=\"sk-item sk-dashed-wrapped\"><div class=\"sk-label-container\"><div class=\"sk-label sk-toggleable\"><input class=\"sk-toggleable__control sk-hidden--visually\" id=\"sk-estimator-id-1\" type=\"checkbox\" ><label for=\"sk-estimator-id-1\" class=\"sk-toggleable__label sk-toggleable__label-arrow\">RFECV</label><div class=\"sk-toggleable__content\"><pre>RFECV(cv=5,\n",
       "      estimator=RandomForestRegressor(max_depth=30, max_features=&#x27;sqrt&#x27;,\n",
       "                                      random_state=99),\n",
       "      scoring=&#x27;r2&#x27;)</pre></div></div></div><div class=\"sk-parallel\"><div class=\"sk-parallel-item\"><div class=\"sk-item\"><div class=\"sk-label-container\"><div class=\"sk-label sk-toggleable\"><input class=\"sk-toggleable__control sk-hidden--visually\" id=\"sk-estimator-id-2\" type=\"checkbox\" ><label for=\"sk-estimator-id-2\" class=\"sk-toggleable__label sk-toggleable__label-arrow\">estimator: RandomForestRegressor</label><div class=\"sk-toggleable__content\"><pre>RandomForestRegressor(max_depth=30, max_features=&#x27;sqrt&#x27;, random_state=99)</pre></div></div></div><div class=\"sk-serial\"><div class=\"sk-item\"><div class=\"sk-estimator sk-toggleable\"><input class=\"sk-toggleable__control sk-hidden--visually\" id=\"sk-estimator-id-3\" type=\"checkbox\" ><label for=\"sk-estimator-id-3\" class=\"sk-toggleable__label sk-toggleable__label-arrow\">RandomForestRegressor</label><div class=\"sk-toggleable__content\"><pre>RandomForestRegressor(max_depth=30, max_features=&#x27;sqrt&#x27;, random_state=99)</pre></div></div></div></div></div></div></div></div></div></div>"
      ],
      "text/plain": [
       "RFECV(cv=5,\n",
       "      estimator=RandomForestRegressor(max_depth=30, max_features='sqrt',\n",
       "                                      random_state=99),\n",
       "      scoring='r2')"
      ]
     },
     "execution_count": 29,
     "metadata": {},
     "output_type": "execute_result"
    }
   ],
   "source": [
    "rf_selec = RandomForestRegressor(n_estimators=100, max_depth=30, max_features='sqrt', random_state=99)\n",
    "selec = RFECV(estimator=rf_selec, cv=5, min_features_to_select=1, step=1, scoring='r2')\n",
    "X_selec = preprocessor.fit_transform(X)\n",
    "y_selec = StandardScaler().fit_transform(y.values.reshape(-1,1)).reshape(-1)\n",
    "\n",
    "selec.fit(X_selec, y_selec)"
   ]
  },
  {
   "cell_type": "code",
   "execution_count": 34,
   "metadata": {},
   "outputs": [
    {
     "name": "stdout",
     "output_type": "stream",
     "text": [
      "[1 1 1 1 1 1 1 1 1 1 1 1 1 1 2 5 1 1 1 1 1 1 1 1 1 1 1 1 1 1 1 1 1 1 1 1 1\n",
      " 1 1 1 1 1 1 1 3 1 1 4 1 1 1 1 1 1]\n",
      "[ True  True  True  True  True  True  True  True  True  True  True  True\n",
      "  True  True False False  True  True  True  True  True  True  True  True\n",
      "  True  True  True  True  True  True  True  True  True  True  True  True\n",
      "  True  True  True  True  True  True  True  True False  True  True False\n",
      "  True  True  True  True  True  True]\n"
     ]
    }
   ],
   "source": [
    "print(selec.ranking_)\n",
    "print(selec.support_)\n",
    "truc = X_selec.toarray()"
   ]
  },
  {
   "cell_type": "markdown",
   "metadata": {},
   "source": [
    "We see that the only bad features are dummy variables representing openings"
   ]
  }
 ],
 "metadata": {
  "kernelspec": {
   "display_name": "Python 3.8.10 ('venv': venv)",
   "language": "python",
   "name": "python3"
  },
  "language_info": {
   "codemirror_mode": {
    "name": "ipython",
    "version": 3
   },
   "file_extension": ".py",
   "mimetype": "text/x-python",
   "name": "python",
   "nbconvert_exporter": "python",
   "pygments_lexer": "ipython3",
   "version": "3.8.10"
  },
  "orig_nbformat": 4,
  "vscode": {
   "interpreter": {
    "hash": "6b2988099991d62bc311a8aeaab63a0bd9982e62a8f99dec3f2648e369d6f9ae"
   }
  }
 },
 "nbformat": 4,
 "nbformat_minor": 2
}
