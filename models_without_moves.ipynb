{
 "cells": [
  {
   "cell_type": "markdown",
   "metadata": {},
   "source": [
    "# <ins>Guess the elo</ins>\n",
    "## Concept\n",
    "In this jupyter notebook, we try to implement a model that does the following :\n",
    "Based on the performance of white against black, and based on black's rating, try to guess the rating of white. Of course, this is highly random as one person can play a very good and a very bad game in the same day. However, we hope that on average, the prediction is as right as possible.\n",
    "The idea of this concept was inspired by a popular youtube show called \"Guess The Elo\" by Gotham Chess"
   ]
  },
  {
   "cell_type": "markdown",
   "metadata": {},
   "source": [
    "<hr/>\n",
    "\n",
    "## Import libraries and data"
   ]
  },
  {
   "cell_type": "code",
   "execution_count": 1,
   "metadata": {},
   "outputs": [],
   "source": [
    "import numpy as np\n",
    "import pandas as pd\n",
    "from sklearn.metrics import mean_absolute_error\n",
    "from sklearn.model_selection import train_test_split, GridSearchCV, StratifiedKFold\n",
    "from sklearn.feature_selection import RFECV\n",
    "from sklearn.preprocessing import OneHotEncoder, OrdinalEncoder, StandardScaler, Binarizer\n",
    "from sklearn.compose import ColumnTransformer\n",
    "from sklearn.pipeline import Pipeline\n",
    "from sklearn.linear_model import LinearRegression, Ridge, Lasso\n",
    "from sklearn.ensemble import RandomForestRegressor, VotingRegressor\n",
    "from sklearn.svm import SVR"
   ]
  },
  {
   "cell_type": "code",
   "execution_count": 2,
   "metadata": {},
   "outputs": [],
   "source": [
    "dataset = pd.read_csv('data/chess_simplified.csv')\n",
    "X = dataset.drop(labels=['white_rating', 'moves'], axis=1)\n",
    "y = dataset['white_rating']\n",
    "\n",
    "X_train, X_test, y_train, y_test = train_test_split(X, y, test_size=0.2, random_state=99)"
   ]
  },
  {
   "cell_type": "markdown",
   "metadata": {},
   "source": [
    "<hr/>\n",
    "\n",
    "## Preprocessing"
   ]
  },
  {
   "cell_type": "code",
   "execution_count": 3,
   "metadata": {},
   "outputs": [],
   "source": [
    "# The label has to be standardize outside of the pipeline\n",
    "ss_y = StandardScaler()\n",
    "y_train = ss_y.fit_transform(y_train.values.reshape(-1,1)).reshape(-1)\n",
    "y_test = ss_y.transform(y_test.values.reshape(-1,1)).reshape(-1)\n",
    "\n",
    "# preprocessing step in the pipeline\n",
    "numerical_features = ['nb_turns', 'black_rating', 'nb_opening_moves', 'game_time', 'increment']\n",
    "boolean_features = ['is_rated', 'out_of_time', 'resign']\n",
    "categorical_features_ordinal = ['result']\n",
    "categorical_features_onehot = ['opening_name']\n",
    "\n",
    "preprocessor = ColumnTransformer([('scale', StandardScaler(), numerical_features),\n",
    "                                  ('ordinal', OrdinalEncoder(categories=[['lose', 'draw', 'win']]), categorical_features_ordinal),\n",
    "                                  ('onehot', OneHotEncoder(drop='first'), categorical_features_onehot),\n",
    "                                  ('binarize', Binarizer(), boolean_features)])"
   ]
  },
  {
   "cell_type": "markdown",
   "metadata": {},
   "source": [
    "<hr/>\n",
    "\n",
    "## Multilinear Regression"
   ]
  },
  {
   "cell_type": "code",
   "execution_count": 5,
   "metadata": {},
   "outputs": [
    {
     "name": "stdout",
     "output_type": "stream",
     "text": [
      "The multilinear regression model has the following score : 0.46\n"
     ]
    }
   ],
   "source": [
    "model = LinearRegression()\n",
    "pipeline_lin = Pipeline([('preprocessor', preprocessor), ('model', model)])\n",
    "pipeline_lin.fit(X_train, y_train)\n",
    "print(f'The multilinear regression model has the following score : {pipeline_lin.score(X_test, y_test):.2}')"
   ]
  },
  {
   "cell_type": "markdown",
   "metadata": {},
   "source": [
    "<hr/>\n",
    "\n",
    "## Ridge Regression"
   ]
  },
  {
   "cell_type": "code",
   "execution_count": 6,
   "metadata": {},
   "outputs": [
    {
     "name": "stdout",
     "output_type": "stream",
     "text": [
      "Here is the best choice of parameters : {'model__alpha': 32.0}\n",
      "The Ridge regression model has the following score : 0.46\n"
     ]
    }
   ],
   "source": [
    "model = Ridge()\n",
    "pipeline = Pipeline([('preprocessor', preprocessor), ('model', model)])\n",
    "params={\n",
    "    'model__alpha': np.linspace(1.0, 100.0, 100)\n",
    "}\n",
    "grid_ridge = GridSearchCV(pipeline, param_grid=params, cv=5)\n",
    "grid_ridge.fit(X_train, y_train)\n",
    "print(f'Here is the best choice of parameters : {grid_ridge.best_params_}')\n",
    "print(f'The Ridge regression model has the following score : {grid_ridge.score(X_test, y_test):.2}')"
   ]
  },
  {
   "cell_type": "markdown",
   "metadata": {},
   "source": [
    "<hr/>\n",
    "\n",
    "## Lasso Regression"
   ]
  },
  {
   "cell_type": "code",
   "execution_count": 6,
   "metadata": {},
   "outputs": [
    {
     "name": "stdout",
     "output_type": "stream",
     "text": [
      "Here is the best choice of parameters : {'model__alpha': 0.0001}\n",
      "The Lasso regression model has the following score : 0.46\n"
     ]
    }
   ],
   "source": [
    "model = Lasso()\n",
    "pipeline = Pipeline([('preprocessor', preprocessor), ('model', model)])\n",
    "params={\n",
    "    'model__alpha': np.linspace(0.0001, 1.0, 100)\n",
    "}\n",
    "grid_lasso = GridSearchCV(pipeline, param_grid=params, cv=5)\n",
    "grid_lasso.fit(X_train, y_train)\n",
    "print(f'Here is the best choice of parameters : {grid_lasso.best_params_}')\n",
    "print(f'The Lasso regression model has the following score : {grid_lasso.score(X_test, y_test):.2}')"
   ]
  },
  {
   "cell_type": "markdown",
   "metadata": {},
   "source": [
    "<hr/>\n",
    "\n",
    "## Random Forest Regression"
   ]
  },
  {
   "cell_type": "code",
   "execution_count": 29,
   "metadata": {},
   "outputs": [
    {
     "name": "stdout",
     "output_type": "stream",
     "text": [
      "Here is the best choice of parameters : {'model__max_features': 'sqrt'}\n",
      "The Random Forest regression model has the following score : 0.55\n"
     ]
    }
   ],
   "source": [
    "model = RandomForestRegressor(n_estimators=500, random_state=99)\n",
    "pipeline = Pipeline([('preprocessor', preprocessor), ('model', model)])\n",
    "params={\n",
    "    'model__max_features': ['sqrt'],\n",
    "    #'model__min_samples_leaf': np.arange(2, 43, 10),\n",
    "    #'model__max_depth': np.arange(4, 13, 4)\n",
    "    'model__max_depth': [30], #30 gave 0.55\n",
    "    #'model__min_samples_leaf': [10]\n",
    "}\n",
    "grid_rf = GridSearchCV(pipeline, param_grid=params, cv=5)\n",
    "grid_rf.fit(X_train, y_train)\n",
    "print(f'Here is the best choice of parameters : {grid_rf.best_params_}')\n",
    "print(f'The Random Forest regression model has the following score : {grid_rf.score(X_test, y_test):.2}')"
   ]
  },
  {
   "cell_type": "markdown",
   "metadata": {},
   "source": [
    "<hr/>\n",
    "\n",
    "## SVM"
   ]
  },
  {
   "cell_type": "code",
   "execution_count": 9,
   "metadata": {},
   "outputs": [
    {
     "name": "stdout",
     "output_type": "stream",
     "text": [
      "Here is the best choice of parameters : {'model__C': 1.0, 'model__kernel': 'rbf'}\n",
      "The SVM regression model has the following score : 0.5\n"
     ]
    }
   ],
   "source": [
    "model = SVR()\n",
    "pipeline = Pipeline([('preprocessor', preprocessor), ('model', model)])\n",
    "params={\n",
    "    'model__kernel': ['rbf', 'sigmoid', 'linear'],\n",
    "    #'model__degree': [2, 3, 4],\n",
    "    'model__C': [0.5, 0.75, 1.0, 1.25, 1.5]\n",
    "}\n",
    "grid_svr = GridSearchCV(pipeline, param_grid=params, cv=5)\n",
    "grid_svr.fit(X_train, y_train)\n",
    "print(f'Here is the best choice of parameters : {grid_svr.best_params_}')\n",
    "print(f'The SVM regression model has the following score : {grid_svr.score(X_test, y_test):.2}')"
   ]
  },
  {
   "cell_type": "markdown",
   "metadata": {},
   "source": [
    "<hr/>\n",
    "\n",
    "## Ensemble Learning"
   ]
  },
  {
   "cell_type": "code",
   "execution_count": 12,
   "metadata": {},
   "outputs": [
    {
     "name": "stdout",
     "output_type": "stream",
     "text": [
      "The voting regressor model has the following score : 0.5268176406401517\n"
     ]
    }
   ],
   "source": [
    "lin = LinearRegression()\n",
    "pipeline_lin = Pipeline([('prep', preprocessor), ('lin', lin)])\n",
    "rf = RandomForestRegressor(n_estimators=500, max_features='sqrt', max_depth=40, random_state=99)\n",
    "pipeline_rf = Pipeline([('prep', preprocessor), ('rf', rf)])\n",
    "svr = SVR(kernel='rbf', C=1.0)\n",
    "pipeline_svr = Pipeline([('prep', preprocessor), ('svr', svr)])\n",
    "\n",
    "vote = VotingRegressor([('linear', pipeline_lin), ('random_forest', pipeline_rf), ('SVR', pipeline_svr)], )\n",
    "vote.fit(X_train, y_train)\n",
    "print(f'The voting regressor model has the following score : {vote.score(X_test, y_test)}')"
   ]
  },
  {
   "cell_type": "markdown",
   "metadata": {},
   "source": [
    "<hr/>\n",
    "\n",
    "## Feature Selection\n",
    "Now that we know that the Random Forest is the best estimator, we use it to check whether there are bad features."
   ]
  },
  {
   "cell_type": "code",
   "execution_count": 6,
   "metadata": {},
   "outputs": [],
   "source": [
    "rf_selec = RandomForestRegressor(n_estimators=500, max_depth=30, max_features='sqrt', random_state=99)\n",
    "selec = RFECV(estimator=rf_selec, cv=5, min_features_to_select=1, step=1, scoring='r2')\n",
    "X_selec = preprocessor.fit_transform(X)\n",
    "y_selec = StandardScaler().fit_transform(y.values.reshape(-1,1)).reshape(-1)\n",
    "\n",
    "selec.fit(X_selec, y_selec)"
   ]
  },
  {
   "cell_type": "code",
   "execution_count": null,
   "metadata": {},
   "outputs": [],
   "source": []
  }
 ],
 "metadata": {
  "kernelspec": {
   "display_name": "Python 3.8.10 ('venv': venv)",
   "language": "python",
   "name": "python3"
  },
  "language_info": {
   "codemirror_mode": {
    "name": "ipython",
    "version": 3
   },
   "file_extension": ".py",
   "mimetype": "text/x-python",
   "name": "python",
   "nbconvert_exporter": "python",
   "pygments_lexer": "ipython3",
   "version": "3.8.10"
  },
  "orig_nbformat": 4,
  "vscode": {
   "interpreter": {
    "hash": "6b2988099991d62bc311a8aeaab63a0bd9982e62a8f99dec3f2648e369d6f9ae"
   }
  }
 },
 "nbformat": 4,
 "nbformat_minor": 2
}
